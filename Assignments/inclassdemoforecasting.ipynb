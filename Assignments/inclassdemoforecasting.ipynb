{
 "cells": [
  {
   "cell_type": "code",
   "execution_count": 1,
   "id": "bd270650-1897-4d16-890a-f6c3366425d2",
   "metadata": {},
   "outputs": [
    {
     "name": "stderr",
     "output_type": "stream",
     "text": [
      "/Users/aasibipin/aidi-1100/.venv/lib/python3.9/site-packages/urllib3/__init__.py:35: NotOpenSSLWarning: urllib3 v2 only supports OpenSSL 1.1.1+, currently the 'ssl' module is compiled with 'LibreSSL 2.8.3'. See: https://github.com/urllib3/urllib3/issues/3020\n",
      "  warnings.warn(\n",
      "/Users/aasibipin/aidi-1100/.venv/lib/python3.9/site-packages/tqdm/auto.py:21: TqdmWarning: IProgress not found. Please update jupyter and ipywidgets. See https://ipywidgets.readthedocs.io/en/stable/user_install.html\n",
      "  from .autonotebook import tqdm as notebook_tqdm\n"
     ]
    }
   ],
   "source": [
    "import datasets\n",
    "from datasets import load_dataset\n",
    "import pandas as pd\n",
    "from tsfresh.feature_extraction import MinimalFCParameters\n",
    "import numpy as np"
   ]
  },
  {
   "cell_type": "code",
   "execution_count": 2,
   "id": "1f66ab84-5bab-492b-8cc7-ae7fc05dc773",
   "metadata": {},
   "outputs": [],
   "source": [
    "ds = load_dataset(\"autogluon/chronos_datasets\", \"m4_weekly\",)"
   ]
  },
  {
   "cell_type": "code",
   "execution_count": 3,
   "id": "9e4b06f7-f502-4cc4-8631-e58b0b513990",
   "metadata": {},
   "outputs": [
    {
     "data": {
      "text/plain": [
       "DatasetDict({\n",
       "    train: Dataset({\n",
       "        features: ['id', 'timestamp', 'target', 'category'],\n",
       "        num_rows: 359\n",
       "    })\n",
       "})"
      ]
     },
     "execution_count": 3,
     "metadata": {},
     "output_type": "execute_result"
    }
   ],
   "source": [
    "ds"
   ]
  },
  {
   "cell_type": "code",
   "execution_count": 4,
   "id": "087bc6e4-798d-43ee-b4c3-84761b9ede83",
   "metadata": {},
   "outputs": [],
   "source": [
    "df = ds['train'].to_pandas()"
   ]
  },
  {
   "cell_type": "code",
   "execution_count": 5,
   "id": "615aaa9c-a312-4476-beb8-a6785029348a",
   "metadata": {},
   "outputs": [
    {
     "data": {
      "text/html": [
       "<div>\n",
       "<style scoped>\n",
       "    .dataframe tbody tr th:only-of-type {\n",
       "        vertical-align: middle;\n",
       "    }\n",
       "\n",
       "    .dataframe tbody tr th {\n",
       "        vertical-align: top;\n",
       "    }\n",
       "\n",
       "    .dataframe thead th {\n",
       "        text-align: right;\n",
       "    }\n",
       "</style>\n",
       "<table border=\"1\" class=\"dataframe\">\n",
       "  <thead>\n",
       "    <tr style=\"text-align: right;\">\n",
       "      <th></th>\n",
       "      <th>id</th>\n",
       "      <th>timestamp</th>\n",
       "      <th>target</th>\n",
       "      <th>category</th>\n",
       "    </tr>\n",
       "  </thead>\n",
       "  <tbody>\n",
       "    <tr>\n",
       "      <th>0</th>\n",
       "      <td>T000000</td>\n",
       "      <td>[1975-08-03T12:00:00.000, 1975-08-10T12:00:00....</td>\n",
       "      <td>[1089.2, 1078.91, 1079.88, 1063.58, 1060.61, 1...</td>\n",
       "      <td>Other</td>\n",
       "    </tr>\n",
       "    <tr>\n",
       "      <th>1</th>\n",
       "      <td>T000001</td>\n",
       "      <td>[1984-04-01T12:00:00.000, 1984-04-08T12:00:00....</td>\n",
       "      <td>[195.928, 194.796, 192.71, 190.288, 188.77, 18...</td>\n",
       "      <td>Other</td>\n",
       "    </tr>\n",
       "    <tr>\n",
       "      <th>2</th>\n",
       "      <td>T000002</td>\n",
       "      <td>[1975-06-01T12:00:00.000, 1975-06-08T12:00:00....</td>\n",
       "      <td>[258.7, 259.8, 260.2, 260.8, 261.1, 263.1, 264...</td>\n",
       "      <td>Other</td>\n",
       "    </tr>\n",
       "    <tr>\n",
       "      <th>3</th>\n",
       "      <td>T000003</td>\n",
       "      <td>[1967-07-02T12:00:00.000, 1967-07-09T12:00:00....</td>\n",
       "      <td>[3460.0, 3340.0, 2770.0, 2520.0, 2740.0, 2760....</td>\n",
       "      <td>Other</td>\n",
       "    </tr>\n",
       "    <tr>\n",
       "      <th>4</th>\n",
       "      <td>T000004</td>\n",
       "      <td>[1986-08-03T12:00:00.000, 1986-08-10T12:00:00....</td>\n",
       "      <td>[4696.0, 4765.0, 4144.0, 3945.0, 4733.0, 4330....</td>\n",
       "      <td>Other</td>\n",
       "    </tr>\n",
       "    <tr>\n",
       "      <th>...</th>\n",
       "      <td>...</td>\n",
       "      <td>...</td>\n",
       "      <td>...</td>\n",
       "      <td>...</td>\n",
       "    </tr>\n",
       "    <tr>\n",
       "      <th>354</th>\n",
       "      <td>T000354</td>\n",
       "      <td>[2016-01-03T12:00:00.000, 2016-01-10T12:00:00....</td>\n",
       "      <td>[4798.0, 5192.0, 4194.0, 4217.0, 3926.0, 3987....</td>\n",
       "      <td>Micro</td>\n",
       "    </tr>\n",
       "    <tr>\n",
       "      <th>355</th>\n",
       "      <td>T000355</td>\n",
       "      <td>[2016-01-03T12:00:00.000, 2016-01-10T12:00:00....</td>\n",
       "      <td>[4923.0, 6382.0, 4387.0, 4979.0, 4660.0, 4437....</td>\n",
       "      <td>Micro</td>\n",
       "    </tr>\n",
       "    <tr>\n",
       "      <th>356</th>\n",
       "      <td>T000356</td>\n",
       "      <td>[2016-01-03T12:00:00.000, 2016-01-10T12:00:00....</td>\n",
       "      <td>[4401.0, 4955.0, 3680.0, 4214.0, 4139.0, 3384....</td>\n",
       "      <td>Micro</td>\n",
       "    </tr>\n",
       "    <tr>\n",
       "      <th>357</th>\n",
       "      <td>T000357</td>\n",
       "      <td>[2016-01-03T12:00:00.000, 2016-01-10T12:00:00....</td>\n",
       "      <td>[5977.0, 7770.0, 5843.0, 6169.0, 5990.0, 5537....</td>\n",
       "      <td>Micro</td>\n",
       "    </tr>\n",
       "    <tr>\n",
       "      <th>358</th>\n",
       "      <td>T000358</td>\n",
       "      <td>[2016-01-03T12:00:00.000, 2016-01-10T12:00:00....</td>\n",
       "      <td>[3965.0, 5237.0, 4304.0, 4265.0, 4488.0, 4518....</td>\n",
       "      <td>Micro</td>\n",
       "    </tr>\n",
       "  </tbody>\n",
       "</table>\n",
       "<p>359 rows × 4 columns</p>\n",
       "</div>"
      ],
      "text/plain": [
       "          id                                          timestamp  \\\n",
       "0    T000000  [1975-08-03T12:00:00.000, 1975-08-10T12:00:00....   \n",
       "1    T000001  [1984-04-01T12:00:00.000, 1984-04-08T12:00:00....   \n",
       "2    T000002  [1975-06-01T12:00:00.000, 1975-06-08T12:00:00....   \n",
       "3    T000003  [1967-07-02T12:00:00.000, 1967-07-09T12:00:00....   \n",
       "4    T000004  [1986-08-03T12:00:00.000, 1986-08-10T12:00:00....   \n",
       "..       ...                                                ...   \n",
       "354  T000354  [2016-01-03T12:00:00.000, 2016-01-10T12:00:00....   \n",
       "355  T000355  [2016-01-03T12:00:00.000, 2016-01-10T12:00:00....   \n",
       "356  T000356  [2016-01-03T12:00:00.000, 2016-01-10T12:00:00....   \n",
       "357  T000357  [2016-01-03T12:00:00.000, 2016-01-10T12:00:00....   \n",
       "358  T000358  [2016-01-03T12:00:00.000, 2016-01-10T12:00:00....   \n",
       "\n",
       "                                                target category  \n",
       "0    [1089.2, 1078.91, 1079.88, 1063.58, 1060.61, 1...    Other  \n",
       "1    [195.928, 194.796, 192.71, 190.288, 188.77, 18...    Other  \n",
       "2    [258.7, 259.8, 260.2, 260.8, 261.1, 263.1, 264...    Other  \n",
       "3    [3460.0, 3340.0, 2770.0, 2520.0, 2740.0, 2760....    Other  \n",
       "4    [4696.0, 4765.0, 4144.0, 3945.0, 4733.0, 4330....    Other  \n",
       "..                                                 ...      ...  \n",
       "354  [4798.0, 5192.0, 4194.0, 4217.0, 3926.0, 3987....    Micro  \n",
       "355  [4923.0, 6382.0, 4387.0, 4979.0, 4660.0, 4437....    Micro  \n",
       "356  [4401.0, 4955.0, 3680.0, 4214.0, 4139.0, 3384....    Micro  \n",
       "357  [5977.0, 7770.0, 5843.0, 6169.0, 5990.0, 5537....    Micro  \n",
       "358  [3965.0, 5237.0, 4304.0, 4265.0, 4488.0, 4518....    Micro  \n",
       "\n",
       "[359 rows x 4 columns]"
      ]
     },
     "execution_count": 5,
     "metadata": {},
     "output_type": "execute_result"
    }
   ],
   "source": [
    "# You can train test split df here\n",
    "df"
   ]
  },
  {
   "cell_type": "code",
   "execution_count": 6,
   "id": "90fa62dd-c9fd-467e-8ec5-e007d38928fa",
   "metadata": {},
   "outputs": [],
   "source": [
    "def to_pandas(ds: datasets.Dataset) -> \"pd.DataFrame\":\n",
    "    \"\"\"Convert dataset to long data frame format.\"\"\"\n",
    "    sequence_columns = [col for col in ds.features if isinstance(ds.features[col], datasets.Sequence)]\n",
    "    return ds.to_pandas().explode(sequence_columns).infer_objects()"
   ]
  },
  {
   "cell_type": "code",
   "execution_count": 7,
   "id": "067eb0cf-5ad2-48ce-96e1-d3e4ed6fd23a",
   "metadata": {},
   "outputs": [],
   "source": [
    "pandas_ds = to_pandas(ds['train'])"
   ]
  },
  {
   "cell_type": "code",
   "execution_count": null,
   "id": "1ed3d0b0-c329-4c1e-93da-36a6127fe802",
   "metadata": {},
   "outputs": [],
   "source": []
  },
  {
   "cell_type": "markdown",
   "id": "574eca37-0dd4-4d02-9514-69b632a17446",
   "metadata": {},
   "source": [
    "## Example of it working with 1 time series "
   ]
  },
  {
   "cell_type": "code",
   "execution_count": 8,
   "id": "399a5816-9d66-482d-8763-dc8f695e6a72",
   "metadata": {},
   "outputs": [],
   "source": [
    "t = df[['timestamp','target']].iloc[0] \n",
    "\n",
    "# Do not split S\n",
    "S = pd.DataFrame( t.target, index=t.timestamp)\n",
    "\n",
    "# The id of the time series\n",
    "S['id'] = 1\n",
    "S = S.reset_index()"
   ]
  },
  {
   "cell_type": "code",
   "execution_count": 9,
   "id": "d3a6c12c-de11-4060-9161-a892dd5c4a60",
   "metadata": {},
   "outputs": [
    {
     "name": "stderr",
     "output_type": "stream",
     "text": [
      "Feature Extraction: 100%|███████████████████████████████████████████████████████████████████████████████████████████| 1/1 [00:03<00:00,  3.48s/it]\n",
      "Feature Extraction: 100%|███████████████████████████████████████████████████████████████████████████████████████████| 1/1 [00:03<00:00,  3.20s/it]\n",
      "Feature Extraction: 100%|███████████████████████████████████████████████████████████████████████████████████████████| 1/1 [00:03<00:00,  3.45s/it]\n"
     ]
    }
   ],
   "source": [
    "features =  MinimalFCParameters()\n",
    "# add additional features if needed: https://tsfresh.readthedocs.io/en/latest/api/tsfresh.feature_extraction.html\n",
    "additional = {\n",
    "    'kurtosis':None}\n",
    "features.update(additional)\n",
    "\n",
    "\n",
    "\n",
    "# This is taking features for all of time \n",
    "# You should filter to the last N days and then do extract_features\n",
    "from tsfresh import extract_features\n",
    "\n",
    "for time_range in [30, 60, 180, ]:\n",
    "    filtered_time_series = S.iloc[time_range]\n",
    "    result_for_1_time_range = extract_features(S, column_id=\"id\", column_sort=\"index\", default_fc_parameters=features)\n",
    "\n",
    "    # Append the results for each time range into a new object\n",
    "    result_for_1_time_range"
   ]
  },
  {
   "cell_type": "code",
   "execution_count": 10,
   "id": "e3c0b811-d48a-4cb3-933c-168a048928b2",
   "metadata": {},
   "outputs": [
    {
     "data": {
      "text/html": [
       "<div>\n",
       "<style scoped>\n",
       "    .dataframe tbody tr th:only-of-type {\n",
       "        vertical-align: middle;\n",
       "    }\n",
       "\n",
       "    .dataframe tbody tr th {\n",
       "        vertical-align: top;\n",
       "    }\n",
       "\n",
       "    .dataframe thead th {\n",
       "        text-align: right;\n",
       "    }\n",
       "</style>\n",
       "<table border=\"1\" class=\"dataframe\">\n",
       "  <thead>\n",
       "    <tr style=\"text-align: right;\">\n",
       "      <th></th>\n",
       "      <th>0__sum_values</th>\n",
       "      <th>0__median</th>\n",
       "      <th>0__mean</th>\n",
       "      <th>0__length</th>\n",
       "      <th>0__standard_deviation</th>\n",
       "      <th>0__variance</th>\n",
       "      <th>0__root_mean_square</th>\n",
       "      <th>0__maximum</th>\n",
       "      <th>0__absolute_maximum</th>\n",
       "      <th>0__minimum</th>\n",
       "      <th>0__kurtosis</th>\n",
       "    </tr>\n",
       "  </thead>\n",
       "  <tbody>\n",
       "    <tr>\n",
       "      <th>1</th>\n",
       "      <td>19606106.67</td>\n",
       "      <td>4392.895</td>\n",
       "      <td>8944.391729</td>\n",
       "      <td>2192.0</td>\n",
       "      <td>10999.09575</td>\n",
       "      <td>1.209801e+08</td>\n",
       "      <td>14176.820896</td>\n",
       "      <td>41304.72</td>\n",
       "      <td>41304.72</td>\n",
       "      <td>1049.32</td>\n",
       "      <td>1.933077</td>\n",
       "    </tr>\n",
       "  </tbody>\n",
       "</table>\n",
       "</div>"
      ],
      "text/plain": [
       "   0__sum_values  0__median      0__mean  0__length  0__standard_deviation  \\\n",
       "1    19606106.67   4392.895  8944.391729     2192.0            10999.09575   \n",
       "\n",
       "    0__variance  0__root_mean_square  0__maximum  0__absolute_maximum  \\\n",
       "1  1.209801e+08         14176.820896    41304.72             41304.72   \n",
       "\n",
       "   0__minimum  0__kurtosis  \n",
       "1     1049.32     1.933077  "
      ]
     },
     "execution_count": 10,
     "metadata": {},
     "output_type": "execute_result"
    }
   ],
   "source": [
    "result_for_1_time_range"
   ]
  },
  {
   "cell_type": "markdown",
   "id": "e5ad05f1-9fba-4b53-9e5e-ce8682019fbf",
   "metadata": {},
   "source": [
    "## Example working with all time series at once"
   ]
  },
  {
   "cell_type": "code",
   "execution_count": 11,
   "id": "4a62bd76-5cc4-4556-960c-f728921ff320",
   "metadata": {},
   "outputs": [
    {
     "data": {
      "text/html": [
       "<div>\n",
       "<style scoped>\n",
       "    .dataframe tbody tr th:only-of-type {\n",
       "        vertical-align: middle;\n",
       "    }\n",
       "\n",
       "    .dataframe tbody tr th {\n",
       "        vertical-align: top;\n",
       "    }\n",
       "\n",
       "    .dataframe thead th {\n",
       "        text-align: right;\n",
       "    }\n",
       "</style>\n",
       "<table border=\"1\" class=\"dataframe\">\n",
       "  <thead>\n",
       "    <tr style=\"text-align: right;\">\n",
       "      <th></th>\n",
       "      <th>id</th>\n",
       "      <th>timestamp</th>\n",
       "      <th>target</th>\n",
       "      <th>category</th>\n",
       "    </tr>\n",
       "  </thead>\n",
       "  <tbody>\n",
       "    <tr>\n",
       "      <th>0</th>\n",
       "      <td>T000000</td>\n",
       "      <td>1975-08-03 12:00:00</td>\n",
       "      <td>1089.20</td>\n",
       "      <td>Other</td>\n",
       "    </tr>\n",
       "    <tr>\n",
       "      <th>0</th>\n",
       "      <td>T000000</td>\n",
       "      <td>1975-08-10 12:00:00</td>\n",
       "      <td>1078.91</td>\n",
       "      <td>Other</td>\n",
       "    </tr>\n",
       "    <tr>\n",
       "      <th>0</th>\n",
       "      <td>T000000</td>\n",
       "      <td>1975-08-17 12:00:00</td>\n",
       "      <td>1079.88</td>\n",
       "      <td>Other</td>\n",
       "    </tr>\n",
       "    <tr>\n",
       "      <th>0</th>\n",
       "      <td>T000000</td>\n",
       "      <td>1975-08-24 12:00:00</td>\n",
       "      <td>1063.58</td>\n",
       "      <td>Other</td>\n",
       "    </tr>\n",
       "    <tr>\n",
       "      <th>0</th>\n",
       "      <td>T000000</td>\n",
       "      <td>1975-08-31 12:00:00</td>\n",
       "      <td>1060.61</td>\n",
       "      <td>Other</td>\n",
       "    </tr>\n",
       "    <tr>\n",
       "      <th>...</th>\n",
       "      <td>...</td>\n",
       "      <td>...</td>\n",
       "      <td>...</td>\n",
       "      <td>...</td>\n",
       "    </tr>\n",
       "    <tr>\n",
       "      <th>358</th>\n",
       "      <td>T000358</td>\n",
       "      <td>2017-09-10 12:00:00</td>\n",
       "      <td>3386.00</td>\n",
       "      <td>Micro</td>\n",
       "    </tr>\n",
       "    <tr>\n",
       "      <th>358</th>\n",
       "      <td>T000358</td>\n",
       "      <td>2017-09-17 12:00:00</td>\n",
       "      <td>3627.00</td>\n",
       "      <td>Micro</td>\n",
       "    </tr>\n",
       "    <tr>\n",
       "      <th>358</th>\n",
       "      <td>T000358</td>\n",
       "      <td>2017-09-24 12:00:00</td>\n",
       "      <td>3299.00</td>\n",
       "      <td>Micro</td>\n",
       "    </tr>\n",
       "    <tr>\n",
       "      <th>358</th>\n",
       "      <td>T000358</td>\n",
       "      <td>2017-10-01 12:00:00</td>\n",
       "      <td>3743.00</td>\n",
       "      <td>Micro</td>\n",
       "    </tr>\n",
       "    <tr>\n",
       "      <th>358</th>\n",
       "      <td>T000358</td>\n",
       "      <td>2017-10-08 12:00:00</td>\n",
       "      <td>3965.00</td>\n",
       "      <td>Micro</td>\n",
       "    </tr>\n",
       "  </tbody>\n",
       "</table>\n",
       "<p>371579 rows × 4 columns</p>\n",
       "</div>"
      ],
      "text/plain": [
       "          id           timestamp   target category\n",
       "0    T000000 1975-08-03 12:00:00  1089.20    Other\n",
       "0    T000000 1975-08-10 12:00:00  1078.91    Other\n",
       "0    T000000 1975-08-17 12:00:00  1079.88    Other\n",
       "0    T000000 1975-08-24 12:00:00  1063.58    Other\n",
       "0    T000000 1975-08-31 12:00:00  1060.61    Other\n",
       "..       ...                 ...      ...      ...\n",
       "358  T000358 2017-09-10 12:00:00  3386.00    Micro\n",
       "358  T000358 2017-09-17 12:00:00  3627.00    Micro\n",
       "358  T000358 2017-09-24 12:00:00  3299.00    Micro\n",
       "358  T000358 2017-10-01 12:00:00  3743.00    Micro\n",
       "358  T000358 2017-10-08 12:00:00  3965.00    Micro\n",
       "\n",
       "[371579 rows x 4 columns]"
      ]
     },
     "execution_count": 11,
     "metadata": {},
     "output_type": "execute_result"
    }
   ],
   "source": [
    "pandas_ds"
   ]
  },
  {
   "cell_type": "code",
   "execution_count": 12,
   "id": "053821db-22f8-416e-92e5-b82df8382c0c",
   "metadata": {},
   "outputs": [],
   "source": [
    "pandas_ds['id'] = pandas_ds['id'].str.replace('T','').astype(int)"
   ]
  },
  {
   "cell_type": "code",
   "execution_count": 13,
   "id": "380ac7c4-b9fe-4502-b33b-0fbdfafe7968",
   "metadata": {},
   "outputs": [],
   "source": [
    "pandas_ds = pandas_ds.drop(columns='category')"
   ]
  },
  {
   "cell_type": "code",
   "execution_count": 14,
   "id": "bcab308d-0f25-433f-8ad7-e5403c419e37",
   "metadata": {},
   "outputs": [
    {
     "data": {
      "text/plain": [
       "id                    int64\n",
       "timestamp    datetime64[ns]\n",
       "target              float64\n",
       "dtype: object"
      ]
     },
     "execution_count": 14,
     "metadata": {},
     "output_type": "execute_result"
    }
   ],
   "source": [
    "pandas_ds.dtypes"
   ]
  },
  {
   "cell_type": "code",
   "execution_count": 15,
   "id": "96e7db54-ef5b-4531-b7c1-ab0cf79e3f7e",
   "metadata": {},
   "outputs": [
    {
     "name": "stderr",
     "output_type": "stream",
     "text": [
      "Feature Extraction: 100%|█████████████████████████████████████████████████████████████████████████████████████████| 20/20 [00:04<00:00,  4.97it/s]\n"
     ]
    }
   ],
   "source": [
    "result_for_all_ids_and_alldates = extract_features(\n",
    "    pandas_ds,\n",
    "    column_id=\"id\",\n",
    "    column_sort=\"timestamp\",\n",
    "    default_fc_parameters=MinimalFCParameters()\n",
    "    )"
   ]
  },
  {
   "cell_type": "code",
   "execution_count": 16,
   "id": "9457ef1c-5e55-43ad-9eb1-c44e06dfef3d",
   "metadata": {},
   "outputs": [
    {
     "data": {
      "text/html": [
       "<div>\n",
       "<style scoped>\n",
       "    .dataframe tbody tr th:only-of-type {\n",
       "        vertical-align: middle;\n",
       "    }\n",
       "\n",
       "    .dataframe tbody tr th {\n",
       "        vertical-align: top;\n",
       "    }\n",
       "\n",
       "    .dataframe thead th {\n",
       "        text-align: right;\n",
       "    }\n",
       "</style>\n",
       "<table border=\"1\" class=\"dataframe\">\n",
       "  <thead>\n",
       "    <tr style=\"text-align: right;\">\n",
       "      <th></th>\n",
       "      <th>target__sum_values</th>\n",
       "      <th>target__median</th>\n",
       "      <th>target__mean</th>\n",
       "      <th>target__length</th>\n",
       "      <th>target__standard_deviation</th>\n",
       "      <th>target__variance</th>\n",
       "      <th>target__root_mean_square</th>\n",
       "      <th>target__maximum</th>\n",
       "      <th>target__absolute_maximum</th>\n",
       "      <th>target__minimum</th>\n",
       "    </tr>\n",
       "  </thead>\n",
       "  <tbody>\n",
       "    <tr>\n",
       "      <th>0</th>\n",
       "      <td>1.960611e+07</td>\n",
       "      <td>4392.895</td>\n",
       "      <td>8944.391729</td>\n",
       "      <td>2192.0</td>\n",
       "      <td>10999.095750</td>\n",
       "      <td>1.209801e+08</td>\n",
       "      <td>14176.820896</td>\n",
       "      <td>41304.72</td>\n",
       "      <td>41304.72</td>\n",
       "      <td>1049.320</td>\n",
       "    </tr>\n",
       "    <tr>\n",
       "      <th>1</th>\n",
       "      <td>1.892440e+06</td>\n",
       "      <td>584.531</td>\n",
       "      <td>1098.339961</td>\n",
       "      <td>1723.0</td>\n",
       "      <td>1159.626742</td>\n",
       "      <td>1.344734e+06</td>\n",
       "      <td>1597.211586</td>\n",
       "      <td>4155.19</td>\n",
       "      <td>4155.19</td>\n",
       "      <td>186.721</td>\n",
       "    </tr>\n",
       "    <tr>\n",
       "      <th>2</th>\n",
       "      <td>7.989222e+06</td>\n",
       "      <td>2507.900</td>\n",
       "      <td>3646.381561</td>\n",
       "      <td>2191.0</td>\n",
       "      <td>2605.907085</td>\n",
       "      <td>6.790752e+06</td>\n",
       "      <td>4481.835586</td>\n",
       "      <td>10089.10</td>\n",
       "      <td>10089.10</td>\n",
       "      <td>258.700</td>\n",
       "    </tr>\n",
       "    <tr>\n",
       "      <th>3</th>\n",
       "      <td>9.333605e+06</td>\n",
       "      <td>3354.785</td>\n",
       "      <td>3576.093851</td>\n",
       "      <td>2610.0</td>\n",
       "      <td>1155.673787</td>\n",
       "      <td>1.335582e+06</td>\n",
       "      <td>3758.194930</td>\n",
       "      <td>10735.00</td>\n",
       "      <td>10735.00</td>\n",
       "      <td>1330.000</td>\n",
       "    </tr>\n",
       "    <tr>\n",
       "      <th>4</th>\n",
       "      <td>5.507312e+06</td>\n",
       "      <td>3108.000</td>\n",
       "      <td>3407.990099</td>\n",
       "      <td>1616.0</td>\n",
       "      <td>1497.075882</td>\n",
       "      <td>2.241236e+06</td>\n",
       "      <td>3722.315504</td>\n",
       "      <td>21215.00</td>\n",
       "      <td>21215.00</td>\n",
       "      <td>1148.000</td>\n",
       "    </tr>\n",
       "    <tr>\n",
       "      <th>...</th>\n",
       "      <td>...</td>\n",
       "      <td>...</td>\n",
       "      <td>...</td>\n",
       "      <td>...</td>\n",
       "      <td>...</td>\n",
       "      <td>...</td>\n",
       "      <td>...</td>\n",
       "      <td>...</td>\n",
       "      <td>...</td>\n",
       "      <td>...</td>\n",
       "    </tr>\n",
       "    <tr>\n",
       "      <th>354</th>\n",
       "      <td>3.006700e+05</td>\n",
       "      <td>2880.000</td>\n",
       "      <td>3233.010753</td>\n",
       "      <td>93.0</td>\n",
       "      <td>985.815927</td>\n",
       "      <td>9.718330e+05</td>\n",
       "      <td>3379.969167</td>\n",
       "      <td>5448.00</td>\n",
       "      <td>5448.00</td>\n",
       "      <td>1971.000</td>\n",
       "    </tr>\n",
       "    <tr>\n",
       "      <th>355</th>\n",
       "      <td>4.019760e+05</td>\n",
       "      <td>4387.000</td>\n",
       "      <td>4322.322581</td>\n",
       "      <td>93.0</td>\n",
       "      <td>782.039079</td>\n",
       "      <td>6.115851e+05</td>\n",
       "      <td>4392.500155</td>\n",
       "      <td>7267.00</td>\n",
       "      <td>7267.00</td>\n",
       "      <td>2405.000</td>\n",
       "    </tr>\n",
       "    <tr>\n",
       "      <th>356</th>\n",
       "      <td>3.367430e+05</td>\n",
       "      <td>3521.000</td>\n",
       "      <td>3620.892473</td>\n",
       "      <td>93.0</td>\n",
       "      <td>587.196812</td>\n",
       "      <td>3.448001e+05</td>\n",
       "      <td>3668.196069</td>\n",
       "      <td>5546.00</td>\n",
       "      <td>5546.00</td>\n",
       "      <td>2249.000</td>\n",
       "    </tr>\n",
       "    <tr>\n",
       "      <th>357</th>\n",
       "      <td>5.077660e+05</td>\n",
       "      <td>5445.000</td>\n",
       "      <td>5459.849462</td>\n",
       "      <td>93.0</td>\n",
       "      <td>911.822327</td>\n",
       "      <td>8.314200e+05</td>\n",
       "      <td>5535.465302</td>\n",
       "      <td>7770.00</td>\n",
       "      <td>7770.00</td>\n",
       "      <td>3556.000</td>\n",
       "    </tr>\n",
       "    <tr>\n",
       "      <th>358</th>\n",
       "      <td>3.219090e+05</td>\n",
       "      <td>3299.000</td>\n",
       "      <td>3461.387097</td>\n",
       "      <td>93.0</td>\n",
       "      <td>666.156962</td>\n",
       "      <td>4.437651e+05</td>\n",
       "      <td>3524.906485</td>\n",
       "      <td>5237.00</td>\n",
       "      <td>5237.00</td>\n",
       "      <td>2221.000</td>\n",
       "    </tr>\n",
       "  </tbody>\n",
       "</table>\n",
       "<p>359 rows × 10 columns</p>\n",
       "</div>"
      ],
      "text/plain": [
       "     target__sum_values  target__median  target__mean  target__length  \\\n",
       "0          1.960611e+07        4392.895   8944.391729          2192.0   \n",
       "1          1.892440e+06         584.531   1098.339961          1723.0   \n",
       "2          7.989222e+06        2507.900   3646.381561          2191.0   \n",
       "3          9.333605e+06        3354.785   3576.093851          2610.0   \n",
       "4          5.507312e+06        3108.000   3407.990099          1616.0   \n",
       "..                  ...             ...           ...             ...   \n",
       "354        3.006700e+05        2880.000   3233.010753            93.0   \n",
       "355        4.019760e+05        4387.000   4322.322581            93.0   \n",
       "356        3.367430e+05        3521.000   3620.892473            93.0   \n",
       "357        5.077660e+05        5445.000   5459.849462            93.0   \n",
       "358        3.219090e+05        3299.000   3461.387097            93.0   \n",
       "\n",
       "     target__standard_deviation  target__variance  target__root_mean_square  \\\n",
       "0                  10999.095750      1.209801e+08              14176.820896   \n",
       "1                   1159.626742      1.344734e+06               1597.211586   \n",
       "2                   2605.907085      6.790752e+06               4481.835586   \n",
       "3                   1155.673787      1.335582e+06               3758.194930   \n",
       "4                   1497.075882      2.241236e+06               3722.315504   \n",
       "..                          ...               ...                       ...   \n",
       "354                  985.815927      9.718330e+05               3379.969167   \n",
       "355                  782.039079      6.115851e+05               4392.500155   \n",
       "356                  587.196812      3.448001e+05               3668.196069   \n",
       "357                  911.822327      8.314200e+05               5535.465302   \n",
       "358                  666.156962      4.437651e+05               3524.906485   \n",
       "\n",
       "     target__maximum  target__absolute_maximum  target__minimum  \n",
       "0           41304.72                  41304.72         1049.320  \n",
       "1            4155.19                   4155.19          186.721  \n",
       "2           10089.10                  10089.10          258.700  \n",
       "3           10735.00                  10735.00         1330.000  \n",
       "4           21215.00                  21215.00         1148.000  \n",
       "..               ...                       ...              ...  \n",
       "354          5448.00                   5448.00         1971.000  \n",
       "355          7267.00                   7267.00         2405.000  \n",
       "356          5546.00                   5546.00         2249.000  \n",
       "357          7770.00                   7770.00         3556.000  \n",
       "358          5237.00                   5237.00         2221.000  \n",
       "\n",
       "[359 rows x 10 columns]"
      ]
     },
     "execution_count": 16,
     "metadata": {},
     "output_type": "execute_result"
    }
   ],
   "source": [
    "result_for_all_ids_and_alldates"
   ]
  },
  {
   "cell_type": "code",
   "execution_count": 27,
   "id": "17c289b5-57d8-43c1-a69a-c8d7cddbd7e8",
   "metadata": {},
   "outputs": [],
   "source": [
    "df['y'] = df['target'].apply(lambda x: np.array(x[-40:]))"
   ]
  },
  {
   "cell_type": "code",
   "execution_count": 32,
   "id": "19a171c3-c451-41b4-9562-4dfe1a67a4b7",
   "metadata": {},
   "outputs": [
    {
     "data": {
      "text/plain": [
       "(40,)"
      ]
     },
     "execution_count": 32,
     "metadata": {},
     "output_type": "execute_result"
    }
   ],
   "source": [
    "# This is important \n",
    "df['y'][0].shape"
   ]
  },
  {
   "cell_type": "code",
   "execution_count": 33,
   "id": "450cfc36-9adb-41e3-866a-fd4f1690a871",
   "metadata": {},
   "outputs": [],
   "source": [
    "dataset = pd.merge(result_for_all_ids_and_alldates, df[['y']], left_index=True, right_index=True)"
   ]
  },
  {
   "cell_type": "code",
   "execution_count": 57,
   "id": "19f165c4-d0a5-4fa8-a80e-3463e557363c",
   "metadata": {},
   "outputs": [],
   "source": [
    "y = np.array(dataset['y'].to_list())"
   ]
  },
  {
   "cell_type": "code",
   "execution_count": 70,
   "id": "f6ae8db7-dab2-4594-9060-eb870841d926",
   "metadata": {
    "scrolled": true
   },
   "outputs": [],
   "source": [
    "X = dataset.iloc[:,list(dataset.columns != 'y')]"
   ]
  },
  {
   "cell_type": "code",
   "execution_count": 71,
   "id": "cefcf962-112e-4eeb-a0c2-127a8cf332e5",
   "metadata": {},
   "outputs": [
    {
     "data": {
      "text/plain": [
       "(359, 10)"
      ]
     },
     "execution_count": 71,
     "metadata": {},
     "output_type": "execute_result"
    }
   ],
   "source": [
    "# This is important \n",
    "\n",
    "X.shape"
   ]
  },
  {
   "cell_type": "code",
   "execution_count": 59,
   "id": "c9888f1c-741d-4e04-abd0-87471f1bd0ca",
   "metadata": {},
   "outputs": [
    {
     "data": {
      "text/plain": [
       "(359, 40)"
      ]
     },
     "execution_count": 59,
     "metadata": {},
     "output_type": "execute_result"
    }
   ],
   "source": [
    "# This is important \n",
    "\n",
    "y.shape"
   ]
  },
  {
   "cell_type": "code",
   "execution_count": null,
   "id": "8b03fc8c-bea7-4aec-adbc-933fc66e5606",
   "metadata": {},
   "outputs": [],
   "source": [
    "# Note: I am skipping cross validation here\n",
    "# get this working before adding cross validation to ur project"
   ]
  },
  {
   "cell_type": "code",
   "execution_count": 72,
   "id": "74847a88-5573-4472-8143-4cbc514f8a29",
   "metadata": {},
   "outputs": [
    {
     "data": {
      "text/plain": [
       "array([[38874.13  , 38872.086 , 38658.95  , ..., 35777.7   , 34051.926 ,\n",
       "        34058.85  ],\n",
       "       [ 3831.4788,  3925.2114,  3906.888 , ...,  3523.983 ,  3458.1658,\n",
       "         3365.8467],\n",
       "       [ 9354.389 ,  9509.618 ,  9685.683 , ..., 10075.11  , 10000.262 ,\n",
       "         9817.71  ],\n",
       "       ...,\n",
       "       [ 4059.9307,  4482.8306,  3675.1565, ...,  3282.4524,  4031.137 ,\n",
       "         3759.3281],\n",
       "       [ 5704.4834,  5276.334 ,  5657.639 , ...,  5348.448 ,  6163.2896,\n",
       "         5868.8916],\n",
       "       [ 3135.7136,  4160.616 ,  3728.5403, ...,  3304.361 ,  3766.5054,\n",
       "         3942.3076]], dtype=float32)"
      ]
     },
     "execution_count": 72,
     "metadata": {},
     "output_type": "execute_result"
    }
   ],
   "source": [
    "import numpy as np\n",
    "from xgboost import XGBRegressor\n",
    "\n",
    "model = XGBRegressor()\n",
    "model.fit(X, y)\n",
    "\n",
    "# test on same data for demo (do not do this in ur project)\n",
    "preds = model.predict(X)\n",
    "preds"
   ]
  },
  {
   "cell_type": "code",
   "execution_count": null,
   "id": "655c9266-a751-47e0-a884-ebaa9d9e82ba",
   "metadata": {},
   "outputs": [],
   "source": []
  },
  {
   "cell_type": "code",
   "execution_count": null,
   "id": "35c13e81-f3df-4eb3-b9d2-e143f218dd48",
   "metadata": {},
   "outputs": [],
   "source": []
  },
  {
   "cell_type": "code",
   "execution_count": null,
   "id": "0e30b1ab-8088-4710-8155-f96cd0c6a2c9",
   "metadata": {},
   "outputs": [],
   "source": []
  },
  {
   "cell_type": "code",
   "execution_count": null,
   "id": "f1c74cb9-58c6-45f3-8949-b1430da891e2",
   "metadata": {},
   "outputs": [],
   "source": []
  }
 ],
 "metadata": {
  "kernelspec": {
   "display_name": "Python 3 (ipykernel)",
   "language": "python",
   "name": "python3"
  },
  "language_info": {
   "codemirror_mode": {
    "name": "ipython",
    "version": 3
   },
   "file_extension": ".py",
   "mimetype": "text/x-python",
   "name": "python",
   "nbconvert_exporter": "python",
   "pygments_lexer": "ipython3",
   "version": "3.9.6"
  }
 },
 "nbformat": 4,
 "nbformat_minor": 5
}
