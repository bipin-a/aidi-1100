{
 "cells": [
  {
   "cell_type": "code",
   "execution_count": 13,
   "id": "bd270650-1897-4d16-890a-f6c3366425d2",
   "metadata": {},
   "outputs": [
    {
     "name": "stderr",
     "output_type": "stream",
     "text": [
      "/Users/aasibipin/aidi-1100/.venv/lib/python3.9/site-packages/urllib3/__init__.py:35: NotOpenSSLWarning: urllib3 v2 only supports OpenSSL 1.1.1+, currently the 'ssl' module is compiled with 'LibreSSL 2.8.3'. See: https://github.com/urllib3/urllib3/issues/3020\n",
      "  warnings.warn(\n",
      "/Users/aasibipin/aidi-1100/.venv/lib/python3.9/site-packages/tqdm/auto.py:21: TqdmWarning: IProgress not found. Please update jupyter and ipywidgets. See https://ipywidgets.readthedocs.io/en/stable/user_install.html\n",
      "  from .autonotebook import tqdm as notebook_tqdm\n"
     ]
    }
   ],
   "source": [
    "from datasets import load_dataset\n",
    "dataset = load_dataset(\"autogluon/chronos_datasets\", \"m4_weekly\")"
   ]
  },
  {
   "cell_type": "code",
   "execution_count": 14,
   "id": "ec8e5509-60e5-4fe3-8e67-f4044f151f9e",
   "metadata": {},
   "outputs": [
    {
     "data": {
      "text/plain": [
       "dict_keys(['train'])"
      ]
     },
     "execution_count": 14,
     "metadata": {},
     "output_type": "execute_result"
    }
   ],
   "source": [
    "dataset.keys()"
   ]
  },
  {
   "cell_type": "code",
   "execution_count": 15,
   "id": "087bc6e4-798d-43ee-b4c3-84761b9ede83",
   "metadata": {},
   "outputs": [],
   "source": [
    "df =  dataset['train'].to_pandas()"
   ]
  },
  {
   "cell_type": "code",
   "execution_count": 16,
   "id": "067eb0cf-5ad2-48ce-96e1-d3e4ed6fd23a",
   "metadata": {},
   "outputs": [
    {
     "data": {
      "text/html": [
       "<div>\n",
       "<style scoped>\n",
       "    .dataframe tbody tr th:only-of-type {\n",
       "        vertical-align: middle;\n",
       "    }\n",
       "\n",
       "    .dataframe tbody tr th {\n",
       "        vertical-align: top;\n",
       "    }\n",
       "\n",
       "    .dataframe thead th {\n",
       "        text-align: right;\n",
       "    }\n",
       "</style>\n",
       "<table border=\"1\" class=\"dataframe\">\n",
       "  <thead>\n",
       "    <tr style=\"text-align: right;\">\n",
       "      <th></th>\n",
       "      <th>id</th>\n",
       "      <th>timestamp</th>\n",
       "      <th>target</th>\n",
       "      <th>category</th>\n",
       "    </tr>\n",
       "  </thead>\n",
       "  <tbody>\n",
       "    <tr>\n",
       "      <th>0</th>\n",
       "      <td>T000000</td>\n",
       "      <td>[1975-08-03T12:00:00.000, 1975-08-10T12:00:00....</td>\n",
       "      <td>[1089.2, 1078.91, 1079.88, 1063.58, 1060.61, 1...</td>\n",
       "      <td>Other</td>\n",
       "    </tr>\n",
       "    <tr>\n",
       "      <th>1</th>\n",
       "      <td>T000001</td>\n",
       "      <td>[1984-04-01T12:00:00.000, 1984-04-08T12:00:00....</td>\n",
       "      <td>[195.928, 194.796, 192.71, 190.288, 188.77, 18...</td>\n",
       "      <td>Other</td>\n",
       "    </tr>\n",
       "    <tr>\n",
       "      <th>2</th>\n",
       "      <td>T000002</td>\n",
       "      <td>[1975-06-01T12:00:00.000, 1975-06-08T12:00:00....</td>\n",
       "      <td>[258.7, 259.8, 260.2, 260.8, 261.1, 263.1, 264...</td>\n",
       "      <td>Other</td>\n",
       "    </tr>\n",
       "    <tr>\n",
       "      <th>3</th>\n",
       "      <td>T000003</td>\n",
       "      <td>[1967-07-02T12:00:00.000, 1967-07-09T12:00:00....</td>\n",
       "      <td>[3460.0, 3340.0, 2770.0, 2520.0, 2740.0, 2760....</td>\n",
       "      <td>Other</td>\n",
       "    </tr>\n",
       "    <tr>\n",
       "      <th>4</th>\n",
       "      <td>T000004</td>\n",
       "      <td>[1986-08-03T12:00:00.000, 1986-08-10T12:00:00....</td>\n",
       "      <td>[4696.0, 4765.0, 4144.0, 3945.0, 4733.0, 4330....</td>\n",
       "      <td>Other</td>\n",
       "    </tr>\n",
       "    <tr>\n",
       "      <th>...</th>\n",
       "      <td>...</td>\n",
       "      <td>...</td>\n",
       "      <td>...</td>\n",
       "      <td>...</td>\n",
       "    </tr>\n",
       "    <tr>\n",
       "      <th>354</th>\n",
       "      <td>T000354</td>\n",
       "      <td>[2016-01-03T12:00:00.000, 2016-01-10T12:00:00....</td>\n",
       "      <td>[4798.0, 5192.0, 4194.0, 4217.0, 3926.0, 3987....</td>\n",
       "      <td>Micro</td>\n",
       "    </tr>\n",
       "    <tr>\n",
       "      <th>355</th>\n",
       "      <td>T000355</td>\n",
       "      <td>[2016-01-03T12:00:00.000, 2016-01-10T12:00:00....</td>\n",
       "      <td>[4923.0, 6382.0, 4387.0, 4979.0, 4660.0, 4437....</td>\n",
       "      <td>Micro</td>\n",
       "    </tr>\n",
       "    <tr>\n",
       "      <th>356</th>\n",
       "      <td>T000356</td>\n",
       "      <td>[2016-01-03T12:00:00.000, 2016-01-10T12:00:00....</td>\n",
       "      <td>[4401.0, 4955.0, 3680.0, 4214.0, 4139.0, 3384....</td>\n",
       "      <td>Micro</td>\n",
       "    </tr>\n",
       "    <tr>\n",
       "      <th>357</th>\n",
       "      <td>T000357</td>\n",
       "      <td>[2016-01-03T12:00:00.000, 2016-01-10T12:00:00....</td>\n",
       "      <td>[5977.0, 7770.0, 5843.0, 6169.0, 5990.0, 5537....</td>\n",
       "      <td>Micro</td>\n",
       "    </tr>\n",
       "    <tr>\n",
       "      <th>358</th>\n",
       "      <td>T000358</td>\n",
       "      <td>[2016-01-03T12:00:00.000, 2016-01-10T12:00:00....</td>\n",
       "      <td>[3965.0, 5237.0, 4304.0, 4265.0, 4488.0, 4518....</td>\n",
       "      <td>Micro</td>\n",
       "    </tr>\n",
       "  </tbody>\n",
       "</table>\n",
       "<p>359 rows × 4 columns</p>\n",
       "</div>"
      ],
      "text/plain": [
       "          id                                          timestamp  \\\n",
       "0    T000000  [1975-08-03T12:00:00.000, 1975-08-10T12:00:00....   \n",
       "1    T000001  [1984-04-01T12:00:00.000, 1984-04-08T12:00:00....   \n",
       "2    T000002  [1975-06-01T12:00:00.000, 1975-06-08T12:00:00....   \n",
       "3    T000003  [1967-07-02T12:00:00.000, 1967-07-09T12:00:00....   \n",
       "4    T000004  [1986-08-03T12:00:00.000, 1986-08-10T12:00:00....   \n",
       "..       ...                                                ...   \n",
       "354  T000354  [2016-01-03T12:00:00.000, 2016-01-10T12:00:00....   \n",
       "355  T000355  [2016-01-03T12:00:00.000, 2016-01-10T12:00:00....   \n",
       "356  T000356  [2016-01-03T12:00:00.000, 2016-01-10T12:00:00....   \n",
       "357  T000357  [2016-01-03T12:00:00.000, 2016-01-10T12:00:00....   \n",
       "358  T000358  [2016-01-03T12:00:00.000, 2016-01-10T12:00:00....   \n",
       "\n",
       "                                                target category  \n",
       "0    [1089.2, 1078.91, 1079.88, 1063.58, 1060.61, 1...    Other  \n",
       "1    [195.928, 194.796, 192.71, 190.288, 188.77, 18...    Other  \n",
       "2    [258.7, 259.8, 260.2, 260.8, 261.1, 263.1, 264...    Other  \n",
       "3    [3460.0, 3340.0, 2770.0, 2520.0, 2740.0, 2760....    Other  \n",
       "4    [4696.0, 4765.0, 4144.0, 3945.0, 4733.0, 4330....    Other  \n",
       "..                                                 ...      ...  \n",
       "354  [4798.0, 5192.0, 4194.0, 4217.0, 3926.0, 3987....    Micro  \n",
       "355  [4923.0, 6382.0, 4387.0, 4979.0, 4660.0, 4437....    Micro  \n",
       "356  [4401.0, 4955.0, 3680.0, 4214.0, 4139.0, 3384....    Micro  \n",
       "357  [5977.0, 7770.0, 5843.0, 6169.0, 5990.0, 5537....    Micro  \n",
       "358  [3965.0, 5237.0, 4304.0, 4265.0, 4488.0, 4518....    Micro  \n",
       "\n",
       "[359 rows x 4 columns]"
      ]
     },
     "execution_count": 16,
     "metadata": {},
     "output_type": "execute_result"
    }
   ],
   "source": [
    "df"
   ]
  },
  {
   "cell_type": "code",
   "execution_count": 17,
   "id": "def21871-e9a6-4088-b8e0-780929eb70c5",
   "metadata": {},
   "outputs": [],
   "source": [
    "t = df[['timestamp','target']].iloc[0] "
   ]
  },
  {
   "cell_type": "code",
   "execution_count": 19,
   "id": "8210674c-a8b8-4031-92f5-e67c826685f6",
   "metadata": {},
   "outputs": [],
   "source": [
    "import pandas as pd"
   ]
  },
  {
   "cell_type": "code",
   "execution_count": 20,
   "id": "1afcbf8c-aaaf-4a31-90b2-5ff288606e6f",
   "metadata": {},
   "outputs": [],
   "source": [
    "# Do not split S\n",
    "S = pd.DataFrame( t.target, index=t.timestamp)"
   ]
  },
  {
   "cell_type": "code",
   "execution_count": 21,
   "id": "1445163e-ab40-4d2d-894c-73b3a0c0a6c4",
   "metadata": {},
   "outputs": [
    {
     "name": "stderr",
     "output_type": "stream",
     "text": [
      "/var/folders/sy/qxbr3q4s7p5cz7hbsw_97fzw0000gn/T/ipykernel_8800/377171987.py:1: FutureWarning: 'M' is deprecated and will be removed in a future version, please use 'ME' instead.\n",
      "  S.resample('M').sum()\n"
     ]
    },
    {
     "data": {
      "text/html": [
       "<div>\n",
       "<style scoped>\n",
       "    .dataframe tbody tr th:only-of-type {\n",
       "        vertical-align: middle;\n",
       "    }\n",
       "\n",
       "    .dataframe tbody tr th {\n",
       "        vertical-align: top;\n",
       "    }\n",
       "\n",
       "    .dataframe thead th {\n",
       "        text-align: right;\n",
       "    }\n",
       "</style>\n",
       "<table border=\"1\" class=\"dataframe\">\n",
       "  <thead>\n",
       "    <tr style=\"text-align: right;\">\n",
       "      <th></th>\n",
       "      <th>0</th>\n",
       "    </tr>\n",
       "  </thead>\n",
       "  <tbody>\n",
       "    <tr>\n",
       "      <th>1975-08-31</th>\n",
       "      <td>5372.18</td>\n",
       "    </tr>\n",
       "    <tr>\n",
       "      <th>1975-09-30</th>\n",
       "      <td>4212.39</td>\n",
       "    </tr>\n",
       "    <tr>\n",
       "      <th>1975-10-31</th>\n",
       "      <td>4235.27</td>\n",
       "    </tr>\n",
       "    <tr>\n",
       "      <th>1975-11-30</th>\n",
       "      <td>5339.89</td>\n",
       "    </tr>\n",
       "    <tr>\n",
       "      <th>1975-12-31</th>\n",
       "      <td>4286.93</td>\n",
       "    </tr>\n",
       "    <tr>\n",
       "      <th>...</th>\n",
       "      <td>...</td>\n",
       "    </tr>\n",
       "    <tr>\n",
       "      <th>2017-03-31</th>\n",
       "      <td>152781.04</td>\n",
       "    </tr>\n",
       "    <tr>\n",
       "      <th>2017-04-30</th>\n",
       "      <td>185387.38</td>\n",
       "    </tr>\n",
       "    <tr>\n",
       "      <th>2017-05-31</th>\n",
       "      <td>143260.48</td>\n",
       "    </tr>\n",
       "    <tr>\n",
       "      <th>2017-06-30</th>\n",
       "      <td>145203.74</td>\n",
       "    </tr>\n",
       "    <tr>\n",
       "      <th>2017-07-31</th>\n",
       "      <td>175865.20</td>\n",
       "    </tr>\n",
       "  </tbody>\n",
       "</table>\n",
       "<p>504 rows × 1 columns</p>\n",
       "</div>"
      ],
      "text/plain": [
       "                    0\n",
       "1975-08-31    5372.18\n",
       "1975-09-30    4212.39\n",
       "1975-10-31    4235.27\n",
       "1975-11-30    5339.89\n",
       "1975-12-31    4286.93\n",
       "...               ...\n",
       "2017-03-31  152781.04\n",
       "2017-04-30  185387.38\n",
       "2017-05-31  143260.48\n",
       "2017-06-30  145203.74\n",
       "2017-07-31  175865.20\n",
       "\n",
       "[504 rows x 1 columns]"
      ]
     },
     "execution_count": 21,
     "metadata": {},
     "output_type": "execute_result"
    }
   ],
   "source": [
    "S.resample('M').sum()"
   ]
  },
  {
   "cell_type": "code",
   "execution_count": 22,
   "id": "efb96e80-3848-484f-88ae-ae60c336d612",
   "metadata": {},
   "outputs": [],
   "source": [
    "S['id'] = list(range(len(S)))"
   ]
  },
  {
   "cell_type": "code",
   "execution_count": 23,
   "id": "26560721-f21e-4094-88f8-9f30ceb0bbfa",
   "metadata": {},
   "outputs": [],
   "source": [
    "S = S.reset_index()"
   ]
  },
  {
   "cell_type": "code",
   "execution_count": 24,
   "id": "5f6499bd-2a44-4e21-8445-431457fdcfd3",
   "metadata": {},
   "outputs": [
    {
     "data": {
      "text/plain": [
       "{'sum_values': None, 'median': None, 'mean': None, 'length': None, 'standard_deviation': None, 'variance': None, 'root_mean_square': None, 'maximum': None, 'absolute_maximum': None, 'minimum': None}"
      ]
     },
     "execution_count": 24,
     "metadata": {},
     "output_type": "execute_result"
    }
   ],
   "source": [
    "from tsfresh.feature_extraction import MinimalFCParameters\n",
    "\n",
    "MinimalFCParameters()\n"
   ]
  },
  {
   "cell_type": "code",
   "execution_count": 25,
   "id": "d3a6c12c-de11-4060-9161-a892dd5c4a60",
   "metadata": {},
   "outputs": [],
   "source": [
    "features =  MinimalFCParameters()\n"
   ]
  },
  {
   "cell_type": "code",
   "execution_count": 26,
   "id": "8236e75c-3b3d-488d-b6ba-4f6375d7c5f7",
   "metadata": {},
   "outputs": [],
   "source": [
    "# add additional features if needed: https://tsfresh.readthedocs.io/en/latest/api/tsfresh.feature_extraction.html\n",
    "additional = {\n",
    "    'kurtosis':None}\n",
    "features.update(additional)"
   ]
  },
  {
   "cell_type": "code",
   "execution_count": 27,
   "id": "a6abb82b-4f35-4d1e-9d84-c8d320172b21",
   "metadata": {},
   "outputs": [
    {
     "data": {
      "text/plain": [
       "{'sum_values': None, 'median': None, 'mean': None, 'length': None, 'standard_deviation': None, 'variance': None, 'root_mean_square': None, 'maximum': None, 'absolute_maximum': None, 'minimum': None, 'kurtosis': None}"
      ]
     },
     "execution_count": 27,
     "metadata": {},
     "output_type": "execute_result"
    }
   ],
   "source": [
    "features"
   ]
  },
  {
   "cell_type": "code",
   "execution_count": 28,
   "id": "d211d01e-b3bd-4203-8b63-356adfc1d6ab",
   "metadata": {},
   "outputs": [
    {
     "name": "stderr",
     "output_type": "stream",
     "text": [
      "Feature Extraction: 100%|███████████████████████████████████████████████████████████████████████████| 20/20 [00:04<00:00,  4.51it/s]\n",
      "Feature Extraction: 100%|███████████████████████████████████████████████████████████████████████████| 20/20 [00:04<00:00,  4.05it/s]\n",
      "Feature Extraction: 100%|███████████████████████████████████████████████████████████████████████████| 20/20 [00:05<00:00,  3.82it/s]\n"
     ]
    }
   ],
   "source": [
    "\n",
    "# This is taking features for all of time \n",
    "# You should filter to the last N days and then do extract_features\n",
    "from tsfresh import extract_features\n",
    "\n",
    "for time_range in [30, 60, 180, ]:\n",
    "    filtered_time_series = S.iloc[time_range]\n",
    "    extract_features(S, column_id=\"id\", column_sort=\"index\", default_fc_parameters=features)\n"
   ]
  },
  {
   "cell_type": "code",
   "execution_count": 30,
   "id": "96e7db54-ef5b-4531-b7c1-ab0cf79e3f7e",
   "metadata": {},
   "outputs": [
    {
     "name": "stderr",
     "output_type": "stream",
     "text": [
      "Feature Extraction: 100%|███████████████████████████████████████████████████████████████████████████| 20/20 [00:04<00:00,  4.63it/s]\n"
     ]
    },
    {
     "data": {
      "text/html": [
       "<div>\n",
       "<style scoped>\n",
       "    .dataframe tbody tr th:only-of-type {\n",
       "        vertical-align: middle;\n",
       "    }\n",
       "\n",
       "    .dataframe tbody tr th {\n",
       "        vertical-align: top;\n",
       "    }\n",
       "\n",
       "    .dataframe thead th {\n",
       "        text-align: right;\n",
       "    }\n",
       "</style>\n",
       "<table border=\"1\" class=\"dataframe\">\n",
       "  <thead>\n",
       "    <tr style=\"text-align: right;\">\n",
       "      <th></th>\n",
       "      <th>0__sum_values</th>\n",
       "      <th>0__median</th>\n",
       "      <th>0__mean</th>\n",
       "      <th>0__length</th>\n",
       "      <th>0__standard_deviation</th>\n",
       "      <th>0__variance</th>\n",
       "      <th>0__root_mean_square</th>\n",
       "      <th>0__maximum</th>\n",
       "      <th>0__absolute_maximum</th>\n",
       "      <th>0__minimum</th>\n",
       "      <th>0__kurtosis</th>\n",
       "    </tr>\n",
       "  </thead>\n",
       "  <tbody>\n",
       "    <tr>\n",
       "      <th>0</th>\n",
       "      <td>1089.20</td>\n",
       "      <td>1089.20</td>\n",
       "      <td>1089.20</td>\n",
       "      <td>1.0</td>\n",
       "      <td>0.0</td>\n",
       "      <td>0.0</td>\n",
       "      <td>1089.20</td>\n",
       "      <td>1089.20</td>\n",
       "      <td>1089.20</td>\n",
       "      <td>1089.20</td>\n",
       "      <td>NaN</td>\n",
       "    </tr>\n",
       "    <tr>\n",
       "      <th>1</th>\n",
       "      <td>1078.91</td>\n",
       "      <td>1078.91</td>\n",
       "      <td>1078.91</td>\n",
       "      <td>1.0</td>\n",
       "      <td>0.0</td>\n",
       "      <td>0.0</td>\n",
       "      <td>1078.91</td>\n",
       "      <td>1078.91</td>\n",
       "      <td>1078.91</td>\n",
       "      <td>1078.91</td>\n",
       "      <td>NaN</td>\n",
       "    </tr>\n",
       "    <tr>\n",
       "      <th>2</th>\n",
       "      <td>1079.88</td>\n",
       "      <td>1079.88</td>\n",
       "      <td>1079.88</td>\n",
       "      <td>1.0</td>\n",
       "      <td>0.0</td>\n",
       "      <td>0.0</td>\n",
       "      <td>1079.88</td>\n",
       "      <td>1079.88</td>\n",
       "      <td>1079.88</td>\n",
       "      <td>1079.88</td>\n",
       "      <td>NaN</td>\n",
       "    </tr>\n",
       "    <tr>\n",
       "      <th>3</th>\n",
       "      <td>1063.58</td>\n",
       "      <td>1063.58</td>\n",
       "      <td>1063.58</td>\n",
       "      <td>1.0</td>\n",
       "      <td>0.0</td>\n",
       "      <td>0.0</td>\n",
       "      <td>1063.58</td>\n",
       "      <td>1063.58</td>\n",
       "      <td>1063.58</td>\n",
       "      <td>1063.58</td>\n",
       "      <td>NaN</td>\n",
       "    </tr>\n",
       "    <tr>\n",
       "      <th>4</th>\n",
       "      <td>1060.61</td>\n",
       "      <td>1060.61</td>\n",
       "      <td>1060.61</td>\n",
       "      <td>1.0</td>\n",
       "      <td>0.0</td>\n",
       "      <td>0.0</td>\n",
       "      <td>1060.61</td>\n",
       "      <td>1060.61</td>\n",
       "      <td>1060.61</td>\n",
       "      <td>1060.61</td>\n",
       "      <td>NaN</td>\n",
       "    </tr>\n",
       "    <tr>\n",
       "      <th>...</th>\n",
       "      <td>...</td>\n",
       "      <td>...</td>\n",
       "      <td>...</td>\n",
       "      <td>...</td>\n",
       "      <td>...</td>\n",
       "      <td>...</td>\n",
       "      <td>...</td>\n",
       "      <td>...</td>\n",
       "      <td>...</td>\n",
       "      <td>...</td>\n",
       "      <td>...</td>\n",
       "    </tr>\n",
       "    <tr>\n",
       "      <th>2187</th>\n",
       "      <td>36150.20</td>\n",
       "      <td>36150.20</td>\n",
       "      <td>36150.20</td>\n",
       "      <td>1.0</td>\n",
       "      <td>0.0</td>\n",
       "      <td>0.0</td>\n",
       "      <td>36150.20</td>\n",
       "      <td>36150.20</td>\n",
       "      <td>36150.20</td>\n",
       "      <td>36150.20</td>\n",
       "      <td>NaN</td>\n",
       "    </tr>\n",
       "    <tr>\n",
       "      <th>2188</th>\n",
       "      <td>35790.55</td>\n",
       "      <td>35790.55</td>\n",
       "      <td>35790.55</td>\n",
       "      <td>1.0</td>\n",
       "      <td>0.0</td>\n",
       "      <td>0.0</td>\n",
       "      <td>35790.55</td>\n",
       "      <td>35790.55</td>\n",
       "      <td>35790.55</td>\n",
       "      <td>35790.55</td>\n",
       "      <td>NaN</td>\n",
       "    </tr>\n",
       "    <tr>\n",
       "      <th>2189</th>\n",
       "      <td>35790.55</td>\n",
       "      <td>35790.55</td>\n",
       "      <td>35790.55</td>\n",
       "      <td>1.0</td>\n",
       "      <td>0.0</td>\n",
       "      <td>0.0</td>\n",
       "      <td>35790.55</td>\n",
       "      <td>35790.55</td>\n",
       "      <td>35790.55</td>\n",
       "      <td>35790.55</td>\n",
       "      <td>NaN</td>\n",
       "    </tr>\n",
       "    <tr>\n",
       "      <th>2190</th>\n",
       "      <td>34066.95</td>\n",
       "      <td>34066.95</td>\n",
       "      <td>34066.95</td>\n",
       "      <td>1.0</td>\n",
       "      <td>0.0</td>\n",
       "      <td>0.0</td>\n",
       "      <td>34066.95</td>\n",
       "      <td>34066.95</td>\n",
       "      <td>34066.95</td>\n",
       "      <td>34066.95</td>\n",
       "      <td>NaN</td>\n",
       "    </tr>\n",
       "    <tr>\n",
       "      <th>2191</th>\n",
       "      <td>34066.95</td>\n",
       "      <td>34066.95</td>\n",
       "      <td>34066.95</td>\n",
       "      <td>1.0</td>\n",
       "      <td>0.0</td>\n",
       "      <td>0.0</td>\n",
       "      <td>34066.95</td>\n",
       "      <td>34066.95</td>\n",
       "      <td>34066.95</td>\n",
       "      <td>34066.95</td>\n",
       "      <td>NaN</td>\n",
       "    </tr>\n",
       "  </tbody>\n",
       "</table>\n",
       "<p>2192 rows × 11 columns</p>\n",
       "</div>"
      ],
      "text/plain": [
       "      0__sum_values  0__median   0__mean  0__length  0__standard_deviation  \\\n",
       "0           1089.20    1089.20   1089.20        1.0                    0.0   \n",
       "1           1078.91    1078.91   1078.91        1.0                    0.0   \n",
       "2           1079.88    1079.88   1079.88        1.0                    0.0   \n",
       "3           1063.58    1063.58   1063.58        1.0                    0.0   \n",
       "4           1060.61    1060.61   1060.61        1.0                    0.0   \n",
       "...             ...        ...       ...        ...                    ...   \n",
       "2187       36150.20   36150.20  36150.20        1.0                    0.0   \n",
       "2188       35790.55   35790.55  35790.55        1.0                    0.0   \n",
       "2189       35790.55   35790.55  35790.55        1.0                    0.0   \n",
       "2190       34066.95   34066.95  34066.95        1.0                    0.0   \n",
       "2191       34066.95   34066.95  34066.95        1.0                    0.0   \n",
       "\n",
       "      0__variance  0__root_mean_square  0__maximum  0__absolute_maximum  \\\n",
       "0             0.0              1089.20     1089.20              1089.20   \n",
       "1             0.0              1078.91     1078.91              1078.91   \n",
       "2             0.0              1079.88     1079.88              1079.88   \n",
       "3             0.0              1063.58     1063.58              1063.58   \n",
       "4             0.0              1060.61     1060.61              1060.61   \n",
       "...           ...                  ...         ...                  ...   \n",
       "2187          0.0             36150.20    36150.20             36150.20   \n",
       "2188          0.0             35790.55    35790.55             35790.55   \n",
       "2189          0.0             35790.55    35790.55             35790.55   \n",
       "2190          0.0             34066.95    34066.95             34066.95   \n",
       "2191          0.0             34066.95    34066.95             34066.95   \n",
       "\n",
       "      0__minimum  0__kurtosis  \n",
       "0        1089.20          NaN  \n",
       "1        1078.91          NaN  \n",
       "2        1079.88          NaN  \n",
       "3        1063.58          NaN  \n",
       "4        1060.61          NaN  \n",
       "...          ...          ...  \n",
       "2187    36150.20          NaN  \n",
       "2188    35790.55          NaN  \n",
       "2189    35790.55          NaN  \n",
       "2190    34066.95          NaN  \n",
       "2191    34066.95          NaN  \n",
       "\n",
       "[2192 rows x 11 columns]"
      ]
     },
     "execution_count": 30,
     "metadata": {},
     "output_type": "execute_result"
    }
   ],
   "source": [
    "extract_features(S, column_id=\"id\", column_sort=\"index\", default_fc_parameters=features)"
   ]
  },
  {
   "cell_type": "code",
   "execution_count": null,
   "id": "17c289b5-57d8-43c1-a69a-c8d7cddbd7e8",
   "metadata": {},
   "outputs": [],
   "source": []
  },
  {
   "cell_type": "code",
   "execution_count": 83,
   "id": "75703902-af3f-4c8f-8b17-64bd064cbeab",
   "metadata": {},
   "outputs": [
    {
     "data": {
      "text/plain": [
       "<Axes: >"
      ]
     },
     "execution_count": 83,
     "metadata": {},
     "output_type": "execute_result"
    },
    {
     "data": {
      "image/png": "[encoded data removed]",
      "text/plain": [
       "<Figure size 640x480 with 1 Axes>"
      ]
     },
     "metadata": {},
     "output_type": "display_data"
    }
   ],
   "source": [
    "# Rolling average instead of this\n",
    "S.resample('30D', origin='end').sum().plot()"
   ]
  },
  {
   "cell_type": "code",
   "execution_count": null,
   "id": "35c13e81-f3df-4eb3-b9d2-e143f218dd48",
   "metadata": {},
   "outputs": [],
   "source": []
  },
  {
   "cell_type": "code",
   "execution_count": null,
   "id": "0e30b1ab-8088-4710-8155-f96cd0c6a2c9",
   "metadata": {},
   "outputs": [],
   "source": []
  },
  {
   "cell_type": "code",
   "execution_count": null,
   "id": "12b511f4-cbe7-413b-bfe8-b5e3dd6ca0ec",
   "metadata": {},
   "outputs": [],
   "source": []
  },
  {
   "cell_type": "code",
   "execution_count": null,
   "id": "5a6131df-961b-4c90-a2d4-78adb21eed33",
   "metadata": {},
   "outputs": [],
   "source": []
  },
  {
   "cell_type": "code",
   "execution_count": null,
   "id": "f1c74cb9-58c6-45f3-8949-b1430da891e2",
   "metadata": {},
   "outputs": [],
   "source": []
  }
 ],
 "metadata": {
  "kernelspec": {
   "display_name": "Python 3 (ipykernel)",
   "language": "python",
   "name": "python3"
  },
  "language_info": {
   "codemirror_mode": {
    "name": "ipython",
    "version": 3
   },
   "file_extension": ".py",
   "mimetype": "text/x-python",
   "name": "python",
   "nbconvert_exporter": "python",
   "pygments_lexer": "ipython3",
   "version": "3.9.6"
  }
 },
 "nbformat": 4,
 "nbformat_minor": 5
}
